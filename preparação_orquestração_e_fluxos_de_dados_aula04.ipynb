{
  "nbformat": 4,
  "nbformat_minor": 0,
  "metadata": {
    "colab": {
      "provenance": [],
      "authorship_tag": "ABX9TyOOu/3UOZm0FclOm8RgEjWD",
      "include_colab_link": true
    },
    "kernelspec": {
      "name": "python3",
      "display_name": "Python 3"
    },
    "language_info": {
      "name": "python"
    }
  },
  "cells": [
    {
      "cell_type": "markdown",
      "metadata": {
        "id": "view-in-github",
        "colab_type": "text"
      },
      "source": [
        "<a href=\"https://colab.research.google.com/github/TiagoBarantini/Pro_Eng_dados/blob/main/prepara%C3%A7%C3%A3o_orquestra%C3%A7%C3%A3o_e_fluxos_de_dados_aula04.ipynb\" target=\"_parent\"><img src=\"https://colab.research.google.com/assets/colab-badge.svg\" alt=\"Open In Colab\"/></a>"
      ]
    },
    {
      "cell_type": "code",
      "execution_count": null,
      "metadata": {
        "id": "t4kVJb36FPZv"
      },
      "outputs": [],
      "source": [
        "%%bash\n",
        "#instalação JAVA\n",
        "apt-get update && apt-get install openjdk-8-jdk-headless -qq > /dev/null\n",
        "\n",
        "#instalação do pyspark\n",
        "pip install -q pyspark\n",
        "\n",
        "#download dos dados utilizados\n",
        "mkdir titanic\n",
        "curl https://raw.githubusercontent.com/neylsoncrepalde/titanic_data_with_semicolon/main/titanic.csv -o titanic/titanic.csv"
      ]
    },
    {
      "cell_type": "code",
      "source": [
        "#definir uma variavel de ambiente para identificador local do JAVA\n",
        "import os\n",
        "os.environ[\"JAVA_HOME\"] = \"/usr/lib/jvm/java-8-openjdk-amd64\""
      ],
      "metadata": {
        "id": "I4Owg5ubFf6P"
      },
      "execution_count": 2,
      "outputs": []
    },
    {
      "cell_type": "code",
      "source": [
        "#Definir a sessão spark\n",
        "from pyspark.sql import SparkSession\n",
        "from pyspark.sql import functions as f"
      ],
      "metadata": {
        "id": "EO8E3cHJFnsh"
      },
      "execution_count": 3,
      "outputs": []
    },
    {
      "cell_type": "code",
      "source": [
        "spark = SparkSession.builder.getOrCreate()"
      ],
      "metadata": {
        "id": "jFf61kxBFpnU"
      },
      "execution_count": 4,
      "outputs": []
    },
    {
      "cell_type": "code",
      "source": [
        "#leitura dos dados\n",
        "titanic = (\n",
        "    spark\n",
        "    .read\n",
        "    .csv(\"titanic\", header=True, sep=\";\", inferSchema=True)\n",
        "  )\n",
        "\n",
        "titanic.printSchema()"
      ],
      "metadata": {
        "id": "LlqNE-N2FwVD"
      },
      "execution_count": null,
      "outputs": []
    },
    {
      "cell_type": "markdown",
      "source": [
        "## perguntas\n",
        "1 - quantos passageiros sobreviveram ao naufrágio do Titanic?\n",
        "2 - Quantos Sobreviveram entre Homens e mulheres?\n",
        "3 - quantos sobreviveram entre pessoas que viajaram em classes diferentes?\n",
        "4 - Quantas pessoas sobreviveram por sexo, classe de viagem e que tinha idade maior do que a mé dia de todo navio"
      ],
      "metadata": {
        "id": "qbCmVGSDGePO"
      }
    },
    {
      "cell_type": "code",
      "source": [
        "#pergunta 1\n",
        "titanic.where('Survived = 1').count()"
      ],
      "metadata": {
        "colab": {
          "base_uri": "https://localhost:8080/"
        },
        "id": "mX0h1GcNFwLu",
        "outputId": "a09e9068-94d7-4ea2-88da-0bfb739a582e"
      },
      "execution_count": 12,
      "outputs": [
        {
          "output_type": "execute_result",
          "data": {
            "text/plain": [
              "342"
            ]
          },
          "metadata": {},
          "execution_count": 12
        }
      ]
    },
    {
      "cell_type": "code",
      "source": [
        "#registrat o dataset como uma view\n",
        "titanic.createOrReplaceTempView('titanicSQL')"
      ],
      "metadata": {
        "id": "ZrWMs5mfHlV4"
      },
      "execution_count": 9,
      "outputs": []
    },
    {
      "cell_type": "code",
      "source": [
        "#pergunta 1 com sql\n",
        "spark.sql(\"\"\"\n",
        "  SELECT\n",
        "    COUNT(1) as Contagem\n",
        "  FROM titanicSQL\n",
        "  WHERE Survived = 1\n",
        "\n",
        "\"\"\").show()"
      ],
      "metadata": {
        "colab": {
          "base_uri": "https://localhost:8080/"
        },
        "id": "yWHahVFKHuux",
        "outputId": "a1742cc9-b9a3-4ee1-da1e-00c5f4945e6d"
      },
      "execution_count": 11,
      "outputs": [
        {
          "output_type": "stream",
          "name": "stdout",
          "text": [
            "+--------+\n",
            "|Contagem|\n",
            "+--------+\n",
            "|     342|\n",
            "+--------+\n",
            "\n"
          ]
        }
      ]
    },
    {
      "cell_type": "code",
      "source": [
        "#pergunta 2\n",
        "(\n",
        "    titanic\n",
        "    .where('Survived = 1')\n",
        "    .groupBy('Sex')\n",
        "    .count()\n",
        "    .show()\n",
        ")"
      ],
      "metadata": {
        "colab": {
          "base_uri": "https://localhost:8080/"
        },
        "id": "dyczZ5r7H-zf",
        "outputId": "7375a8f3-e431-442d-d692-8230fa31d995"
      },
      "execution_count": 15,
      "outputs": [
        {
          "output_type": "stream",
          "name": "stdout",
          "text": [
            "+------+-----+\n",
            "|   Sex|count|\n",
            "+------+-----+\n",
            "|female|  233|\n",
            "|  male|  109|\n",
            "+------+-----+\n",
            "\n"
          ]
        }
      ]
    },
    {
      "cell_type": "code",
      "source": [
        "#pergunta 2\n",
        "spark.sql(\"\"\"\n",
        "  SELECT\n",
        "    Sex,\n",
        "    COUNT(1) as Contagem\n",
        "  FROM titanicSQL\n",
        "  WHERE Survived = 1\n",
        "  GROUP BY Sex\n",
        "\"\"\").show()"
      ],
      "metadata": {
        "colab": {
          "base_uri": "https://localhost:8080/"
        },
        "id": "U1EynsQmIacT",
        "outputId": "c55e2aa9-10be-406f-b119-25e363af9abb"
      },
      "execution_count": 16,
      "outputs": [
        {
          "output_type": "stream",
          "name": "stdout",
          "text": [
            "+------+--------+\n",
            "|   Sex|Contagem|\n",
            "+------+--------+\n",
            "|female|     233|\n",
            "|  male|     109|\n",
            "+------+--------+\n",
            "\n"
          ]
        }
      ]
    },
    {
      "cell_type": "code",
      "source": [
        "#pergunta 3\n",
        "(\n",
        "    titanic\n",
        "    .where('Survived = 1')\n",
        "    .groupBy('Pclass')\n",
        "    .count()\n",
        "    .show()\n",
        ")"
      ],
      "metadata": {
        "colab": {
          "base_uri": "https://localhost:8080/"
        },
        "id": "SN-0SfkSIzPj",
        "outputId": "7d87da86-a630-477c-9944-c935fbab34e4"
      },
      "execution_count": 18,
      "outputs": [
        {
          "output_type": "stream",
          "name": "stdout",
          "text": [
            "+------+-----+\n",
            "|Pclass|count|\n",
            "+------+-----+\n",
            "|     1|  136|\n",
            "|     3|  119|\n",
            "|     2|   87|\n",
            "+------+-----+\n",
            "\n"
          ]
        }
      ]
    },
    {
      "cell_type": "code",
      "source": [
        "#pergunta 3\n",
        "spark.sql(\"\"\"\n",
        "  SELECT\n",
        "    Pclass,\n",
        "    COUNT(1) as Contagem\n",
        "  FROM titanicSQL\n",
        "  WHERE Survived = 1\n",
        "  GROUP BY Pclass\n",
        "\"\"\").show()"
      ],
      "metadata": {
        "colab": {
          "base_uri": "https://localhost:8080/"
        },
        "id": "dvgFX9PdI4jH",
        "outputId": "13a115c2-2977-4c41-c2e0-1021d0853734"
      },
      "execution_count": 19,
      "outputs": [
        {
          "output_type": "stream",
          "name": "stdout",
          "text": [
            "+------+--------+\n",
            "|Pclass|Contagem|\n",
            "+------+--------+\n",
            "|     1|     136|\n",
            "|     3|     119|\n",
            "|     2|      87|\n",
            "+------+--------+\n",
            "\n"
          ]
        }
      ]
    },
    {
      "cell_type": "code",
      "source": [
        "#pergunta 4\n",
        "spark.sql(\"\"\"\n",
        "  SELECT\n",
        "    Sex, Pclass,\n",
        "    COUNT(1) as Contagem\n",
        "  FROM titanicSQL\n",
        "  WHERE Survived = 1\n",
        "      AND Age > (SELECT AVG(Age) FROM titanicSQL)\n",
        "  GROUP BY Sex, Pclass\n",
        "  ORDER BY Sex, Pclass\n",
        "\"\"\").show()"
      ],
      "metadata": {
        "colab": {
          "base_uri": "https://localhost:8080/"
        },
        "id": "P_ZwQ50tJUux",
        "outputId": "793c7ac6-0c13-49f1-dd07-90ce241d248f"
      },
      "execution_count": 21,
      "outputs": [
        {
          "output_type": "stream",
          "name": "stdout",
          "text": [
            "+------+------+--------+\n",
            "|   Sex|Pclass|Contagem|\n",
            "+------+------+--------+\n",
            "|female|     1|      54|\n",
            "|female|     2|      30|\n",
            "|female|     3|       8|\n",
            "|  male|     1|      27|\n",
            "|  male|     2|       5|\n",
            "|  male|     3|      10|\n",
            "+------+------+--------+\n",
            "\n"
          ]
        }
      ]
    },
    {
      "cell_type": "code",
      "source": [
        "#pergunta 4\n",
        "\n",
        "(\n",
        "    titanic\n",
        "    .where('Survived = 1')\n",
        "    .where(f.col(\"Age\") > 26.7)\n",
        "    .groupBy('Sex','Pclass')\n",
        "    .count()\n",
        "    .show()\n",
        ")"
      ],
      "metadata": {
        "colab": {
          "base_uri": "https://localhost:8080/"
        },
        "id": "gIjKxxrOJI2J",
        "outputId": "eafe2fd8-341d-417f-e17e-6037e10e4f91"
      },
      "execution_count": 33,
      "outputs": [
        {
          "output_type": "stream",
          "name": "stdout",
          "text": [
            "+------+------+-----+\n",
            "|   Sex|Pclass|count|\n",
            "+------+------+-----+\n",
            "|  male|     3|   16|\n",
            "|female|     3|   12|\n",
            "|female|     1|   55|\n",
            "|female|     2|   40|\n",
            "|  male|     2|    5|\n",
            "|  male|     1|   32|\n",
            "+------+------+-----+\n",
            "\n"
          ]
        }
      ]
    },
    {
      "cell_type": "code",
      "source": [],
      "metadata": {
        "id": "O7L6OhXKKv6F"
      },
      "execution_count": null,
      "outputs": []
    }
  ]
}