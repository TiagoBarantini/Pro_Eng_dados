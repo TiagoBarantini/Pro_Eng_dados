{
  "nbformat": 4,
  "nbformat_minor": 0,
  "metadata": {
    "colab": {
      "provenance": [],
      "authorship_tag": "ABX9TyPTcRQNcaDFeJbaePDDKwX6",
      "include_colab_link": true
    },
    "kernelspec": {
      "name": "python3",
      "display_name": "Python 3"
    },
    "language_info": {
      "name": "python"
    }
  },
  "cells": [
    {
      "cell_type": "markdown",
      "metadata": {
        "id": "view-in-github",
        "colab_type": "text"
      },
      "source": [
        "<a href=\"https://colab.research.google.com/github/TiagoBarantini/Pro_Eng_dados/blob/main/Prepara%C3%A7%C3%A3o%2C_Orquestra%C3%A7%C3%A3o_e_Fluxos_de_Dados_AULA02.ipynb\" target=\"_parent\"><img src=\"https://colab.research.google.com/assets/colab-badge.svg\" alt=\"Open In Colab\"/></a>"
      ]
    },
    {
      "cell_type": "code",
      "execution_count": null,
      "metadata": {
        "id": "6M9QpByhBOtc"
      },
      "outputs": [],
      "source": [
        "%%bash\n",
        "#instalação JAVA\n",
        "apt-get update && apt-get install openjdk-8-jdk-headless -qq > /dev/null\n",
        "\n",
        "#instalação do pyspark\n",
        "pip install -q pyspark\n"
      ]
    },
    {
      "cell_type": "code",
      "source": [
        "#definir uma variavel de ambiente para identificador local do JAVA\n",
        "import os\n",
        "os.environ[\"JAVA_HOME\"] = \"/usr/lib/jvm/java-8-openjdk-amd64\""
      ],
      "metadata": {
        "id": "ync5EVkQIqio"
      },
      "execution_count": 2,
      "outputs": []
    },
    {
      "cell_type": "code",
      "source": [
        "%%bash\n",
        "\n",
        "#download dos dados utilizados\n",
        "mkdir titanic\n",
        "curl https://raw.githubusercontent.com/neylsoncrepalde/titanic_data_with_semicolon/main/titanic.csv -o titanic/titanic.csv"
      ],
      "metadata": {
        "id": "Ld00rVWhCdZx"
      },
      "execution_count": null,
      "outputs": []
    },
    {
      "cell_type": "code",
      "source": [
        "#importar os modulos necessarios\n",
        "\n",
        "from pyspark.sql import SparkSession\n",
        "from pyspark.sql import functions as f"
      ],
      "metadata": {
        "id": "cCxH205jJDlf"
      },
      "execution_count": 4,
      "outputs": []
    },
    {
      "cell_type": "code",
      "source": [
        "#iniciar uma sessão spark\n",
        "spark = SparkSession.builder.getOrCreate()"
      ],
      "metadata": {
        "id": "Jgw1pFYZJLJF"
      },
      "execution_count": 5,
      "outputs": []
    },
    {
      "cell_type": "code",
      "source": [
        "#leitura de dados\n",
        "titanic = (\n",
        "    spark\n",
        "    .read\n",
        "    .csv(\"titanic\", header=True, sep=\";\", inferSchema=True)\n",
        "  )\n",
        "\n",
        "titanic.printSchema()"
      ],
      "metadata": {
        "id": "k4CMfvGXDre_"
      },
      "execution_count": null,
      "outputs": []
    },
    {
      "cell_type": "code",
      "source": [
        "titanic.show()"
      ],
      "metadata": {
        "id": "hr4h5yX6J_T-"
      },
      "execution_count": null,
      "outputs": []
    },
    {
      "cell_type": "code",
      "source": [
        "#selecionar colunas\n",
        "titanic.select('Name','Sex','Pclass','Survived').show(n=10, truncate = False)"
      ],
      "metadata": {
        "colab": {
          "base_uri": "https://localhost:8080/"
        },
        "id": "JsXNYenjKFzE",
        "outputId": "2755a6a1-e363-4159-b45d-9e111d2b8a62"
      },
      "execution_count": 11,
      "outputs": [
        {
          "output_type": "stream",
          "name": "stdout",
          "text": [
            "+---------------------------------------------------+------+------+--------+\n",
            "|Name                                               |Sex   |Pclass|Survived|\n",
            "+---------------------------------------------------+------+------+--------+\n",
            "|Braund, Mr. Owen Harris                            |male  |3     |0       |\n",
            "|Cumings, Mrs. John Bradley (Florence Briggs Thayer)|female|1     |1       |\n",
            "|Heikkinen, Miss. Laina                             |female|3     |1       |\n",
            "|Futrelle, Mrs. Jacques Heath (Lily May Peel)       |female|1     |1       |\n",
            "|Allen, Mr. William Henry                           |male  |3     |0       |\n",
            "|Moran, Mr. James                                   |male  |3     |0       |\n",
            "|McCarthy, Mr. Timothy J                            |male  |1     |0       |\n",
            "|Palsson, Master. Gosta Leonard                     |male  |3     |0       |\n",
            "|Johnson, Mrs. Oscar W (Elisabeth Vilhelmina Berg)  |female|3     |1       |\n",
            "|Nasser, Mrs. Nicholas (Adele Achem)                |female|2     |1       |\n",
            "+---------------------------------------------------+------+------+--------+\n",
            "only showing top 10 rows\n",
            "\n"
          ]
        }
      ]
    },
    {
      "cell_type": "code",
      "source": [
        "#filtrar linhas\n",
        "titanic.where(\"Sex = 'male' AND Survived = 1\").show()"
      ],
      "metadata": {
        "colab": {
          "base_uri": "https://localhost:8080/"
        },
        "id": "Y3HV-34kKL_q",
        "outputId": "974cdf7a-e1b9-4227-dff4-fae373431e2a"
      },
      "execution_count": 14,
      "outputs": [
        {
          "output_type": "stream",
          "name": "stdout",
          "text": [
            "+-----------+--------+------+--------------------+----+----+-----+-----+--------+-------+-------+--------+\n",
            "|PassengerId|Survived|Pclass|                Name| Sex| Age|SibSp|Parch|  Ticket|   Fare|  Cabin|Embarked|\n",
            "+-----------+--------+------+--------------------+----+----+-----+-----+--------+-------+-------+--------+\n",
            "|         18|       1|     2|Williams, Mr. Cha...|male|null|    0|    0|  244373|   13.0|   null|       S|\n",
            "|         22|       1|     2|Beesley, Mr. Lawr...|male|34.0|    0|    0|  248698|   13.0|    D56|       S|\n",
            "|         24|       1|     1|Sloper, Mr. Willi...|male|28.0|    0|    0|  113788|   35.5|     A6|       S|\n",
            "|         37|       1|     3|    Mamee, Mr. Hanna|male|null|    0|    0|    2677| 7.2292|   null|       C|\n",
            "|         56|       1|     1|   Woolner, Mr. Hugh|male|null|    0|    0|   19947|   35.5|    C52|       S|\n",
            "|         66|       1|     3|Moubarek, Master....|male|null|    1|    1|    2661|15.2458|   null|       C|\n",
            "|         75|       1|     3|       Bing, Mr. Lee|male|32.0|    0|    0|    1601|56.4958|   null|       S|\n",
            "|         79|       1|     2|Caldwell, Master....|male|0.83|    0|    2|  248738|   29.0|   null|       S|\n",
            "|         82|       1|     3|Sheerlinck, Mr. J...|male|29.0|    0|    0|  345779|    9.5|   null|       S|\n",
            "|         98|       1|     1|Greenfield, Mr. W...|male|23.0|    0|    1|PC 17759|63.3583|D10 D12|       C|\n",
            "|        108|       1|     3|Moss, Mr. Albert ...|male|null|    0|    0|  312991|  7.775|   null|       S|\n",
            "|        126|       1|     3|Nicola-Yarred, Ma...|male|12.0|    1|    0|    2651|11.2417|   null|       C|\n",
            "|        128|       1|     3|Madsen, Mr. Fridt...|male|24.0|    0|    0| C 17369| 7.1417|   null|       S|\n",
            "|        147|       1|     3|\"Andersson, Mr. A...|male|27.0|    0|    0|  350043| 7.7958|   null|       S|\n",
            "|        166|       1|     3|\"Goldsmith, Maste...|male| 9.0|    0|    2|  363291| 20.525|   null|       S|\n",
            "|        184|       1|     2|Becker, Master. R...|male| 1.0|    2|    1|  230136|   39.0|     F4|       S|\n",
            "|        188|       1|     1|\"Romaine, Mr. Cha...|male|45.0|    0|    0|  111428|  26.55|   null|       S|\n",
            "|        194|       1|     2|Navratil, Master....|male| 3.0|    1|    1|  230080|   26.0|     F2|       S|\n",
            "|        205|       1|     3|\"Cohen, Mr. Gursh...|male|18.0|    0|    0|A/5 3540|   8.05|   null|       S|\n",
            "|        208|       1|     3|Albimona, Mr. Nas...|male|26.0|    0|    0|    2699|18.7875|   null|       C|\n",
            "+-----------+--------+------+--------------------+----+----+-----+-----+--------+-------+-------+--------+\n",
            "only showing top 20 rows\n",
            "\n"
          ]
        }
      ]
    },
    {
      "cell_type": "code",
      "source": [
        "#calculando metricas MEAN,MIN,MAX,STDDEV\n",
        "titanic.agg(\n",
        "    f.mean('Age').alias('med_idade'),\n",
        "    f.min('Age').alias('idade_minima'),\n",
        "    f.max('Age').alias('idade_maxima'),\n",
        "    f.stddev('Age').alias('desvio_padrao_id')\n",
        ").show()"
      ],
      "metadata": {
        "colab": {
          "base_uri": "https://localhost:8080/"
        },
        "id": "aU6h3xWmK_xQ",
        "outputId": "8d57cf85-664a-46e5-914b-6aa4b5056e6b"
      },
      "execution_count": 15,
      "outputs": [
        {
          "output_type": "stream",
          "name": "stdout",
          "text": [
            "+-----------------+------------+------------+------------------+\n",
            "|        med_idade|idade_minima|idade_maxima|  desvio_padrao_id|\n",
            "+-----------------+------------+------------+------------------+\n",
            "|29.69911764705882|        0.42|        80.0|14.526497332334035|\n",
            "+-----------------+------------+------------+------------------+\n",
            "\n"
          ]
        }
      ]
    },
    {
      "cell_type": "code",
      "source": [
        "#metricas agrupadas\n",
        "(\n",
        "    titanic\n",
        "    .groupBy('Sex')\n",
        "    .agg(\n",
        "      f.mean('Age').alias('med_idade'),\n",
        "      f.min('Age').alias('idade_minima'),\n",
        "      f.max('Age').alias('idade_maxima'),\n",
        "        f.stddev('Age').alias('desvio_padrao_id'))\n",
        ").show()"
      ],
      "metadata": {
        "colab": {
          "base_uri": "https://localhost:8080/"
        },
        "id": "qORUAMGZMNAb",
        "outputId": "dd572a84-14a3-4d64-f735-96f9b4270b3a"
      },
      "execution_count": 17,
      "outputs": [
        {
          "output_type": "stream",
          "name": "stdout",
          "text": [
            "+------+------------------+------------+------------+------------------+\n",
            "|   Sex|         med_idade|idade_minima|idade_maxima|  desvio_padrao_id|\n",
            "+------+------------------+------------+------------+------------------+\n",
            "|female|27.915708812260537|        0.75|        63.0|14.110146457544133|\n",
            "|  male| 30.72664459161148|        0.42|        80.0|14.678200823816608|\n",
            "+------+------------------+------------+------------+------------------+\n",
            "\n"
          ]
        }
      ]
    },
    {
      "cell_type": "code",
      "source": [
        "#ordenar resultados\n",
        "\n",
        "(\n",
        "    titanic\n",
        "    .groupBy('Sex','Pclass','Survived')\n",
        "    .agg(\n",
        "      f.mean('Age').alias('med_idade'),\n",
        "      f.min('Age').alias('idade_minima'),\n",
        "      f.max('Age').alias('idade_maxima'),\n",
        "      f.stddev('Age').alias('desvio_padrao_id')\n",
        "        )\n",
        "    .orderBy('Sex','Pclass','Survived')\n",
        "    .show()\n",
        ")"
      ],
      "metadata": {
        "colab": {
          "base_uri": "https://localhost:8080/"
        },
        "id": "9RzblFrfNZK_",
        "outputId": "d4aaf2d6-8ea1-44ee-de91-1ca76ec6c622"
      },
      "execution_count": 21,
      "outputs": [
        {
          "output_type": "stream",
          "name": "stdout",
          "text": [
            "+------+------+--------+------------------+------------+------------+------------------+\n",
            "|   Sex|Pclass|Survived|         med_idade|idade_minima|idade_maxima|  desvio_padrao_id|\n",
            "+------+------+--------+------------------+------------+------------+------------------+\n",
            "|female|     1|       0|25.666666666666668|         2.0|        50.0| 24.00694344004112|\n",
            "|female|     1|       1|  34.9390243902439|        14.0|        63.0|13.223013572001038|\n",
            "|female|     2|       0|              36.0|        24.0|        57.0|12.915107432770352|\n",
            "|female|     2|       1|28.080882352941178|         2.0|        55.0| 12.76469311243358|\n",
            "|female|     3|       0|23.818181818181817|         2.0|        48.0|12.833464514612233|\n",
            "|female|     3|       1|19.329787234042552|        0.75|        63.0|12.303245681590393|\n",
            "|  male|     1|       0| 44.58196721311475|        18.0|        71.0|14.457748881905525|\n",
            "|  male|     1|       1|36.248000000000005|        0.92|        80.0|14.936743749765334|\n",
            "|  male|     2|       0| 33.36904761904762|        16.0|        70.0| 12.15812461947834|\n",
            "|  male|     2|       1|            16.022|        0.67|        62.0|19.547121527222362|\n",
            "|  male|     3|       0| 27.25581395348837|         1.0|        74.0|12.135706609773328|\n",
            "|  male|     3|       1|22.274210526315787|        0.42|        45.0|11.555786109267054|\n",
            "+------+------+--------+------------------+------------+------------+------------------+\n",
            "\n"
          ]
        }
      ]
    },
    {
      "cell_type": "code",
      "source": [],
      "metadata": {
        "id": "IOuf5OAJOSPY"
      },
      "execution_count": null,
      "outputs": []
    }
  ]
}