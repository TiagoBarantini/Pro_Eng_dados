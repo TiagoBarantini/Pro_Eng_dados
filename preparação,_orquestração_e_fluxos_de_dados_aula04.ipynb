{
  "nbformat": 4,
  "nbformat_minor": 0,
  "metadata": {
    "colab": {
      "provenance": [],
      "authorship_tag": "ABX9TyNI4J8197qg0GiwzFTv46hG",
      "include_colab_link": true
    },
    "kernelspec": {
      "name": "python3",
      "display_name": "Python 3"
    },
    "language_info": {
      "name": "python"
    }
  },
  "cells": [
    {
      "cell_type": "markdown",
      "metadata": {
        "id": "view-in-github",
        "colab_type": "text"
      },
      "source": [
        "<a href=\"https://colab.research.google.com/github/TiagoBarantini/Pro_Eng_dados/blob/main/prepara%C3%A7%C3%A3o%2C_orquestra%C3%A7%C3%A3o_e_fluxos_de_dados_aula04.ipynb\" target=\"_parent\"><img src=\"https://colab.research.google.com/assets/colab-badge.svg\" alt=\"Open In Colab\"/></a>"
      ]
    },
    {
      "cell_type": "code",
      "execution_count": null,
      "metadata": {
        "id": "YMwrEAEeK41S"
      },
      "outputs": [],
      "source": [
        "%%bash\n",
        "curl -O https://raw.githubusercontent.com/neylsoncrepalde/campeonato_brasileiro_dataset/main/campeonato-brasileiro-cartoes.csv\n",
        "curl -O https://raw.githubusercontent.com/neylsoncrepalde/campeonato_brasileiro_dataset/main/campeonato-brasileiro-estatisticas-full.csv\n",
        "curl -O https://raw.githubusercontent.com/neylsoncrepalde/campeonato_brasileiro_dataset/main/campeonato-brasileiro-full.csv\n",
        "curl -O https://raw.githubusercontent.com/neylsoncrepalde/campeonato_brasileiro_dataset/main/campeonato-brasileiro-gols.csv"
      ]
    },
    {
      "cell_type": "code",
      "source": [
        "# Instalação Java\n",
        "%%bash\n",
        "apt-get update && apt-get install openjdk-8-jdk-headless -qq > /dev/null\n",
        "\n",
        "# Instalação do PySpark\n",
        "pip install -q pyspark"
      ],
      "metadata": {
        "id": "3JmItvr0MvwQ"
      },
      "execution_count": null,
      "outputs": []
    },
    {
      "cell_type": "code",
      "source": [
        "#definir uma variavel de ambiente para identificador local do JAVA\n",
        "import os\n",
        "os.environ[\"JAVA_HOME\"] = \"/usr/lib/jvm/java-8-openjdk-amd64\""
      ],
      "metadata": {
        "id": "e7x4MaSJM1sh"
      },
      "execution_count": 6,
      "outputs": []
    },
    {
      "cell_type": "code",
      "source": [
        "#Definir a sessão spark\n",
        "from pyspark.sql import SparkSession\n",
        "from pyspark.sql import functions as f\n",
        "\n",
        "spark = SparkSession.builder.getOrCreate()"
      ],
      "metadata": {
        "id": "xGL5JckCNPsZ"
      },
      "execution_count": 7,
      "outputs": []
    },
    {
      "cell_type": "code",
      "source": [
        "param = {\n",
        "    \"header\": True,\n",
        "    \"inferSchema\":True,\n",
        "    \"sep\": \",\"\n",
        "}\n",
        "\n",
        "cartoes = (\n",
        "    spark\n",
        "    .read\n",
        "    .csv(\"campeonato-brasileiro-cartoes.csv\", **param)\n",
        ")\n",
        "\n",
        "gols = (\n",
        "    spark\n",
        "    .read\n",
        "    .csv(\"campeonato-brasileiro-gols.csv\", **param)\n",
        ")\n",
        "\n",
        "estats = (\n",
        "    spark\n",
        "    .read\n",
        "    .csv(\"campeonato-brasileiro-estatisticas-full.csv\", **param)\n",
        ")"
      ],
      "metadata": {
        "id": "Lly-5tt1Nfrs"
      },
      "execution_count": 8,
      "outputs": []
    },
    {
      "cell_type": "code",
      "source": [
        "schemafull = \"\"\"\n",
        "  ID int, rodada int, data string, hora string, dia string, mandante string, visitante string,\n",
        "  formacao_mandante string, formacao_visitante string, tecnico_mandante string, tecnico_visitante string,\n",
        "  vencedor string, arena string, mandante_placar int, visitante_placar int, mandante_estado string, visitante_estado string,\n",
        "  estado_vencedor string\n",
        "\"\"\"\n",
        "\n",
        "\n",
        "full = (\n",
        "    spark\n",
        "    .read\n",
        "    .csv(\"campeonato-brasileiro-full.csv\",header=True, sep=\",\", schema=schemafull)\n",
        ")\n",
        "\n",
        "full.select(\n",
        "    \"ID\", \"rodada\",\"vencedor\",\"data\", \"hora\",\"dia\"\n",
        ").show()"
      ],
      "metadata": {
        "colab": {
          "base_uri": "https://localhost:8080/"
        },
        "id": "61h_2CJ9TR67",
        "outputId": "0441c69f-6a8d-44aa-ac72-ea2c9baea5b8"
      },
      "execution_count": 11,
      "outputs": [
        {
          "output_type": "stream",
          "name": "stdout",
          "text": [
            "+---+------+-------------+----------+-----+-------+\n",
            "| ID|rodada|     vencedor|      data| hora|    dia|\n",
            "+---+------+-------------+----------+-----+-------+\n",
            "|  1|     1|      Guarani|2003-03-29|16:00| Sabado|\n",
            "|  2|     1| Athletico-PR|2003-03-29|16:00| Sabado|\n",
            "|  3|     1|            -|2003-03-30|16:00|Domingo|\n",
            "|  4|     1|            -|2003-03-30|16:00|Domingo|\n",
            "|  5|     1|            -|2003-03-30|16:00|Domingo|\n",
            "|  6|     1|     Criciuma|2003-03-30|16:00|Domingo|\n",
            "|  7|     1|            -|2003-03-30|16:00|Domingo|\n",
            "|  8|     1|            -|2003-03-30|16:00|Domingo|\n",
            "|  9|     1|            -|2003-03-30|16:00|Domingo|\n",
            "| 10|     1|            -|2003-03-30|16:00|Domingo|\n",
            "| 11|     1|            -|2003-03-30|18:00|Domingo|\n",
            "| 12|     1|  Atletico-MG|2003-03-30|18:00|Domingo|\n",
            "| 13|     2|            -|2003-04-05|16:00| Sabado|\n",
            "| 14|     2|            -|2003-04-05|16:00| Sabado|\n",
            "| 15|     2|Internacional|2003-04-05|16:00| Sabado|\n",
            "| 16|     2|       Gremio|2003-04-05|18:00| Sabado|\n",
            "| 17|     2|     Flamengo|2003-04-06|16:00|Domingo|\n",
            "| 18|     2|            -|2003-04-06|16:00|Domingo|\n",
            "| 19|     2|      Vitoria|2003-04-06|16:00|Domingo|\n",
            "| 20|     2|  Ponte Preta|2003-04-06|16:00|Domingo|\n",
            "+---+------+-------------+----------+-----+-------+\n",
            "only showing top 20 rows\n",
            "\n"
          ]
        }
      ]
    },
    {
      "cell_type": "code",
      "source": [
        "%%bash\n",
        "curl -O https://github.com/neylsoncrepalde/campeonato_brasileiro_dataset/blob/main/Legenda.txt\n",
        "cat Legenda.txt"
      ],
      "metadata": {
        "id": "8VjEL_9IU09L"
      },
      "execution_count": null,
      "outputs": []
    },
    {
      "cell_type": "code",
      "source": [
        "gols.createOrReplaceTempView(\"gols\")\n",
        "estats.createOrReplaceTempView(\"estats\")\n",
        "full.createOrReplaceTempView(\"full\")\n",
        "cartoes.createOrReplaceTempView(\"cartoes\")"
      ],
      "metadata": {
        "id": "gYjKNXqPXYxE"
      },
      "execution_count": 15,
      "outputs": []
    },
    {
      "cell_type": "markdown",
      "source": [
        "#Em quantas partidas o palmeiras recebeu cartões amarelos quando jogava como visitante?"
      ],
      "metadata": {
        "id": "Zsims6yYY09e"
      }
    },
    {
      "cell_type": "code",
      "source": [
        "cartoes.where(\"clube = 'Palmeiras' AND cartao = 'Amarelo'\").show()"
      ],
      "metadata": {
        "id": "QOfLHiVrYsB2"
      },
      "execution_count": null,
      "outputs": []
    },
    {
      "cell_type": "code",
      "source": [
        "full.where(\"visitante = 'Palmeiras'\").show()"
      ],
      "metadata": {
        "id": "jocY_rK-Z5L3"
      },
      "execution_count": null,
      "outputs": []
    },
    {
      "cell_type": "code",
      "source": [
        "(\n",
        "    full\n",
        "    .where(\"visitante = 'Palmeiras'\")\n",
        "    .select('ID', 'visitante')\n",
        "    .join(cartoes, full.ID == cartoes.partida_id,\"inner\")\n",
        "    .where(\"clube = 'Palmeiras' AND cartao = 'Amarelo'\")\n",
        "    .select('ID')\n",
        "    .distinct()\n",
        "    .agg(\n",
        "        f.count('ID').alias('CONTAGEM')\n",
        "    )\n",
        ").show()"
      ],
      "metadata": {
        "colab": {
          "base_uri": "https://localhost:8080/"
        },
        "id": "yvx8X8TPaVFF",
        "outputId": "765c531b-d11c-4894-f8e7-a2717f68fdf5"
      },
      "execution_count": 52,
      "outputs": [
        {
          "output_type": "stream",
          "name": "stdout",
          "text": [
            "+--------+\n",
            "|CONTAGEM|\n",
            "+--------+\n",
            "|     143|\n",
            "+--------+\n",
            "\n"
          ]
        }
      ]
    },
    {
      "cell_type": "code",
      "source": [
        "spark.sql(\"\"\"\n",
        "    SELECT\n",
        "      count(1) as contagem\n",
        "    FROM(\n",
        "      SELECT distinct\n",
        "        a.ID\n",
        "      FROM full a\n",
        "      INNER JOIN cartoes b\n",
        "        ON a.ID = b.partida_id\n",
        "      WHERE a.visitante = 'Palmeiras' AND b.clube = 'Palmeiras' AND b.cartao = 'Amarelo')\n",
        "\"\"\").show()"
      ],
      "metadata": {
        "colab": {
          "base_uri": "https://localhost:8080/"
        },
        "id": "EhCrbpeBbaup",
        "outputId": "7e24d790-8990-47b2-a752-d846d8638cee"
      },
      "execution_count": 29,
      "outputs": [
        {
          "output_type": "stream",
          "name": "stdout",
          "text": [
            "+--------+\n",
            "|contagem|\n",
            "+--------+\n",
            "|     143|\n",
            "+--------+\n",
            "\n"
          ]
        }
      ]
    }
  ]
}