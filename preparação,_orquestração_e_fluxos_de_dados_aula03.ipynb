{
  "nbformat": 4,
  "nbformat_minor": 0,
  "metadata": {
    "colab": {
      "provenance": [],
      "authorship_tag": "ABX9TyPKS6+V2VHoi8ro93ivpDzj",
      "include_colab_link": true
    },
    "kernelspec": {
      "name": "python3",
      "display_name": "Python 3"
    },
    "language_info": {
      "name": "python"
    }
  },
  "cells": [
    {
      "cell_type": "markdown",
      "metadata": {
        "id": "view-in-github",
        "colab_type": "text"
      },
      "source": [
        "<a href=\"https://colab.research.google.com/github/TiagoBarantini/Pro_Eng_dados/blob/main/prepara%C3%A7%C3%A3o%2C_orquestra%C3%A7%C3%A3o_e_fluxos_de_dados_aula03.ipynb\" target=\"_parent\"><img src=\"https://colab.research.google.com/assets/colab-badge.svg\" alt=\"Open In Colab\"/></a>"
      ]
    },
    {
      "cell_type": "code",
      "execution_count": null,
      "metadata": {
        "id": "fgg4n4sQ99YG"
      },
      "outputs": [],
      "source": [
        "%%bash\n",
        "#instalação JAVA\n",
        "apt-get update && apt-get install openjdk-8-jdk-headless -qq > /dev/null\n",
        "\n",
        "#instalação do pyspark\n",
        "pip install -q pyspark\n",
        "\n",
        "#download dos dados utilizados\n",
        "mkdir titanic\n",
        "curl https://raw.githubusercontent.com/neylsoncrepalde/titanic_data_with_semicolon/main/titanic.csv -o titanic/titanic.csv\n",
        "\n"
      ]
    },
    {
      "cell_type": "code",
      "source": [
        "#definir uma variavel de ambiente para identificador local do JAVA\n",
        "import os\n",
        "os.environ[\"JAVA_HOME\"] = \"/usr/lib/jvm/java-8-openjdk-amd64\""
      ],
      "metadata": {
        "id": "UToW1OzH_Y6O"
      },
      "execution_count": 3,
      "outputs": []
    },
    {
      "cell_type": "code",
      "source": [
        "#Definir a sessão spark\n",
        "from pyspark.sql import SparkSession\n",
        "from pyspark.sql import functions as f"
      ],
      "metadata": {
        "id": "N6fyeu2o-7ds"
      },
      "execution_count": 4,
      "outputs": []
    },
    {
      "cell_type": "code",
      "source": [
        "spark = SparkSession.builder.getOrCreate()"
      ],
      "metadata": {
        "id": "ZszZeP9i_mnf"
      },
      "execution_count": 5,
      "outputs": []
    },
    {
      "cell_type": "code",
      "source": [
        "#leitura dos dados\n",
        "titanic = (\n",
        "    spark\n",
        "    .read\n",
        "    .csv(\"titanic\", header=True, sep=\";\", inferSchema=True)\n",
        "  )\n",
        "\n",
        "titanic.printSchema()"
      ],
      "metadata": {
        "id": "xZMps4Wf_vWU"
      },
      "execution_count": null,
      "outputs": []
    },
    {
      "cell_type": "code",
      "source": [
        "#registrat o dataset como uma view\n",
        "titanic.createOrReplaceTempView('titanic')"
      ],
      "metadata": {
        "id": "4ZzijGE4AKPz"
      },
      "execution_count": 7,
      "outputs": []
    },
    {
      "cell_type": "code",
      "source": [
        "spark.sql(\"\"\"\n",
        "  SELECT\n",
        "    Name,Sex,Pclass,Age\n",
        "  FROM titanic\n",
        "\n",
        "\"\"\").show()"
      ],
      "metadata": {
        "colab": {
          "base_uri": "https://localhost:8080/"
        },
        "id": "U1zggAv7AjjF",
        "outputId": "00197444-2848-4b6d-fc75-c8696c736f57"
      },
      "execution_count": 9,
      "outputs": [
        {
          "output_type": "stream",
          "name": "stdout",
          "text": [
            "+--------------------+------+------+----+\n",
            "|                Name|   Sex|Pclass| Age|\n",
            "+--------------------+------+------+----+\n",
            "|Braund, Mr. Owen ...|  male|     3|22.0|\n",
            "|Cumings, Mrs. Joh...|female|     1|38.0|\n",
            "|Heikkinen, Miss. ...|female|     3|26.0|\n",
            "|Futrelle, Mrs. Ja...|female|     1|35.0|\n",
            "|Allen, Mr. Willia...|  male|     3|35.0|\n",
            "|    Moran, Mr. James|  male|     3|null|\n",
            "|McCarthy, Mr. Tim...|  male|     1|54.0|\n",
            "|Palsson, Master. ...|  male|     3| 2.0|\n",
            "|Johnson, Mrs. Osc...|female|     3|27.0|\n",
            "|Nasser, Mrs. Nich...|female|     2|14.0|\n",
            "|Sandstrom, Miss. ...|female|     3| 4.0|\n",
            "|Bonnell, Miss. El...|female|     1|58.0|\n",
            "|Saundercock, Mr. ...|  male|     3|20.0|\n",
            "|Andersson, Mr. An...|  male|     3|39.0|\n",
            "|Vestrom, Miss. Hu...|female|     3|14.0|\n",
            "|Hewlett, Mrs. (Ma...|female|     2|55.0|\n",
            "|Rice, Master. Eugene|  male|     3| 2.0|\n",
            "|Williams, Mr. Cha...|  male|     2|null|\n",
            "|Vander Planke, Mr...|female|     3|31.0|\n",
            "|Masselmani, Mrs. ...|female|     3|null|\n",
            "+--------------------+------+------+----+\n",
            "only showing top 20 rows\n",
            "\n"
          ]
        }
      ]
    },
    {
      "cell_type": "code",
      "source": [
        "spark.sql(\"\"\"\n",
        "  SELECT\n",
        "    Name,Sex,Pclass,Age\n",
        "  FROM titanic\n",
        "  WHERE\n",
        "    Sex = 'male'\n",
        "    AND Pclass = 1\n",
        "\"\"\").show()"
      ],
      "metadata": {
        "colab": {
          "base_uri": "https://localhost:8080/"
        },
        "id": "0xcS36MJBBg0",
        "outputId": "f2e85116-2852-4771-b446-71f58972e445"
      },
      "execution_count": 11,
      "outputs": [
        {
          "output_type": "stream",
          "name": "stdout",
          "text": [
            "+--------------------+----+------+----+\n",
            "|                Name| Sex|Pclass| Age|\n",
            "+--------------------+----+------+----+\n",
            "|McCarthy, Mr. Tim...|male|     1|54.0|\n",
            "|Sloper, Mr. Willi...|male|     1|28.0|\n",
            "|Fortune, Mr. Char...|male|     1|19.0|\n",
            "|Uruchurtu, Don. M...|male|     1|40.0|\n",
            "|Meyer, Mr. Edgar ...|male|     1|28.0|\n",
            "|Holverson, Mr. Al...|male|     1|42.0|\n",
            "|Ostby, Mr. Engelh...|male|     1|65.0|\n",
            "|   Woolner, Mr. Hugh|male|     1|null|\n",
            "|Harris, Mr. Henry...|male|     1|45.0|\n",
            "|Stewart, Mr. Albe...|male|     1|null|\n",
            "|Carrau, Mr. Franc...|male|     1|28.0|\n",
            "|Chaffee, Mr. Herb...|male|     1|46.0|\n",
            "|Goldschmidt, Mr. ...|male|     1|71.0|\n",
            "|Greenfield, Mr. W...|male|     1|23.0|\n",
            "|White, Mr. Richar...|male|     1|21.0|\n",
            "|Porter, Mr. Walte...|male|     1|47.0|\n",
            "|Baxter, Mr. Quigg...|male|     1|24.0|\n",
            "|White, Mr. Perciv...|male|     1|54.0|\n",
            "|Futrelle, Mr. Jac...|male|     1|37.0|\n",
            "|  Giglio, Mr. Victor|male|     1|24.0|\n",
            "+--------------------+----+------+----+\n",
            "only showing top 20 rows\n",
            "\n"
          ]
        }
      ]
    },
    {
      "cell_type": "code",
      "source": [
        "#agregaçoes\n",
        "\n",
        "spark.sql(\"\"\"\n",
        "  SELECT\n",
        "    AVG(Age) as med_idade,\n",
        "    MIN(Age) as idade_minima,\n",
        "    MAX(Age) as idade_maxima,\n",
        "    STDDEV(Age) as des_ped_idade\n",
        "  FROM titanic\n",
        "\"\"\").show()"
      ],
      "metadata": {
        "colab": {
          "base_uri": "https://localhost:8080/"
        },
        "id": "Vtdn1xAoBVA_",
        "outputId": "fe9f2927-ba79-4314-d8a4-7c69ccf23252"
      },
      "execution_count": 13,
      "outputs": [
        {
          "output_type": "stream",
          "name": "stdout",
          "text": [
            "+-----------------+------------+------------+------------------+\n",
            "|        med_idade|idade_minima|idade_maxima|     des_ped_idade|\n",
            "+-----------------+------------+------------+------------------+\n",
            "|29.69911764705882|        0.42|        80.0|14.526497332334035|\n",
            "+-----------------+------------+------------+------------------+\n",
            "\n"
          ]
        }
      ]
    },
    {
      "cell_type": "code",
      "source": [
        "#agregaçoes group by\n",
        "\n",
        "spark.sql(\"\"\"\n",
        "  SELECT\n",
        "    Sex,\n",
        "    AVG(Age) as med_idade,\n",
        "    MIN(Age) as idade_minima,\n",
        "    MAX(Age) as idade_maxima,\n",
        "    STDDEV(Age) as des_ped_idade\n",
        "  FROM titanic\n",
        "  GROUP BY Sex\n",
        "\"\"\").show()"
      ],
      "metadata": {
        "colab": {
          "base_uri": "https://localhost:8080/"
        },
        "id": "skx65Yd8C0bL",
        "outputId": "a4756a4c-9c31-4ae2-c130-e1a14af49671"
      },
      "execution_count": 14,
      "outputs": [
        {
          "output_type": "stream",
          "name": "stdout",
          "text": [
            "+------+------------------+------------+------------+------------------+\n",
            "|   Sex|         med_idade|idade_minima|idade_maxima|     des_ped_idade|\n",
            "+------+------------------+------------+------------+------------------+\n",
            "|female|27.915708812260537|        0.75|        63.0|14.110146457544133|\n",
            "|  male| 30.72664459161148|        0.42|        80.0|14.678200823816608|\n",
            "+------+------------------+------------+------------+------------------+\n",
            "\n"
          ]
        }
      ]
    },
    {
      "cell_type": "code",
      "source": [
        "spark.sql(\"\"\"\n",
        "  SELECT\n",
        "    Sex, Pclass, Survived,\n",
        "    AVG(Age) as med_idade,\n",
        "    MIN(Age) as idade_minima,\n",
        "    MAX(Age) as idade_maxima,\n",
        "    STDDEV(Age) as des_ped_idade\n",
        "  FROM titanic\n",
        "  GROUP BY Sex,Pclass, Survived\n",
        "\"\"\").show()"
      ],
      "metadata": {
        "colab": {
          "base_uri": "https://localhost:8080/"
        },
        "id": "kliY8TryDN9y",
        "outputId": "b25dadf3-0738-43fc-a4ec-523908beee17"
      },
      "execution_count": 16,
      "outputs": [
        {
          "output_type": "stream",
          "name": "stdout",
          "text": [
            "+------+------+--------+------------------+------------+------------+------------------+\n",
            "|   Sex|Pclass|Survived|         med_idade|idade_minima|idade_maxima|     des_ped_idade|\n",
            "+------+------+--------+------------------+------------+------------+------------------+\n",
            "|female|     1|       0|25.666666666666668|         2.0|        50.0| 24.00694344004112|\n",
            "|female|     2|       0|              36.0|        24.0|        57.0|12.915107432770352|\n",
            "|  male|     2|       0| 33.36904761904762|        16.0|        70.0| 12.15812461947834|\n",
            "|  male|     1|       0| 44.58196721311475|        18.0|        71.0|14.457748881905525|\n",
            "|  male|     3|       0| 27.25581395348837|         1.0|        74.0|12.135706609773328|\n",
            "|female|     3|       0|23.818181818181817|         2.0|        48.0|12.833464514612233|\n",
            "|  male|     2|       1|            16.022|        0.67|        62.0|19.547121527222362|\n",
            "|female|     2|       1|28.080882352941178|         2.0|        55.0| 12.76469311243358|\n",
            "|  male|     1|       1|36.248000000000005|        0.92|        80.0|14.936743749765334|\n",
            "|female|     1|       1|  34.9390243902439|        14.0|        63.0|13.223013572001038|\n",
            "|  male|     3|       1|22.274210526315787|        0.42|        45.0|11.555786109267054|\n",
            "|female|     3|       1|19.329787234042552|        0.75|        63.0|12.303245681590393|\n",
            "+------+------+--------+------------------+------------+------------+------------------+\n",
            "\n"
          ]
        }
      ]
    },
    {
      "cell_type": "code",
      "source": [
        "spark.sql(\"\"\"\n",
        "  SELECT\n",
        "    Sex, Pclass, Survived,\n",
        "    AVG(Age) as med_idade,\n",
        "    MIN(Age) as idade_minima,\n",
        "    MAX(Age) as idade_maxima,\n",
        "    STDDEV(Age) as des_ped_idade\n",
        "  FROM titanic\n",
        "  GROUP BY Sex,Pclass, Survived\n",
        "  ORDER BY Sex,Pclass, Survived\n",
        "\"\"\").show()"
      ],
      "metadata": {
        "colab": {
          "base_uri": "https://localhost:8080/"
        },
        "id": "U0hV_UBmDeOS",
        "outputId": "4bdf897f-3296-4995-8cc1-ccbfe5940bfa"
      },
      "execution_count": 17,
      "outputs": [
        {
          "output_type": "stream",
          "name": "stdout",
          "text": [
            "+------+------+--------+------------------+------------+------------+------------------+\n",
            "|   Sex|Pclass|Survived|         med_idade|idade_minima|idade_maxima|     des_ped_idade|\n",
            "+------+------+--------+------------------+------------+------------+------------------+\n",
            "|female|     1|       0|25.666666666666668|         2.0|        50.0| 24.00694344004112|\n",
            "|female|     1|       1|  34.9390243902439|        14.0|        63.0|13.223013572001038|\n",
            "|female|     2|       0|              36.0|        24.0|        57.0|12.915107432770352|\n",
            "|female|     2|       1|28.080882352941178|         2.0|        55.0| 12.76469311243358|\n",
            "|female|     3|       0|23.818181818181817|         2.0|        48.0|12.833464514612233|\n",
            "|female|     3|       1|19.329787234042552|        0.75|        63.0|12.303245681590393|\n",
            "|  male|     1|       0| 44.58196721311475|        18.0|        71.0|14.457748881905525|\n",
            "|  male|     1|       1|36.248000000000005|        0.92|        80.0|14.936743749765334|\n",
            "|  male|     2|       0| 33.36904761904762|        16.0|        70.0| 12.15812461947834|\n",
            "|  male|     2|       1|            16.022|        0.67|        62.0|19.547121527222362|\n",
            "|  male|     3|       0| 27.25581395348837|         1.0|        74.0|12.135706609773328|\n",
            "|  male|     3|       1|22.274210526315787|        0.42|        45.0|11.555786109267054|\n",
            "+------+------+--------+------------------+------------+------------+------------------+\n",
            "\n"
          ]
        }
      ]
    },
    {
      "cell_type": "code",
      "source": [],
      "metadata": {
        "id": "VppXVhZjEMUs"
      },
      "execution_count": null,
      "outputs": []
    }
  ]
}